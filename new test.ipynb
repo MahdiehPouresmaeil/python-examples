{
  "nbformat": 4,
  "nbformat_minor": 0,
  "metadata": {
    "colab": {
      "provenance": [],
      "authorship_tag": "ABX9TyODrdY7cQZSmzIjFYJEanBR",
      "include_colab_link": true
    },
    "kernelspec": {
      "name": "python3",
      "display_name": "Python 3"
    },
    "language_info": {
      "name": "python"
    }
  },
  "cells": [
    {
      "cell_type": "markdown",
      "metadata": {
        "id": "view-in-github",
        "colab_type": "text"
      },
      "source": [
        "<a href=\"https://colab.research.google.com/github/MahdiehPouresmaeil/python-examples/blob/main/new%20test.ipynb\" target=\"_parent\"><img src=\"https://colab.research.google.com/assets/colab-badge.svg\" alt=\"Open In Colab\"/></a>"
      ]
    },
    {
      "cell_type": "code",
      "execution_count": null,
      "metadata": {
        "id": "ZVV7a5diLW04"
      },
      "outputs": [],
      "source": [
        "import numpy as np\n",
        "import matplotlib.pyplot as plt\n",
        "from sklearn.datasets import load_breast_cancer\n",
        "from sklearn.model_selection import train_test_split\n",
        "from sklearn.preprocessing import StandardScaler\n",
        "from sklearn.preprocessing import MinMaxScaler\n",
        "from sklearn.linear_model import LogisticRegression\n",
        "from sklearn.metrics import accuracy_score, confusion_matrix, classification_report\n",
        "\n",
        "\n",
        "\n"
      ]
    },
    {
      "cell_type": "code",
      "source": [
        "data = load_breast_cancer()\n",
        "X = data.data\n",
        "y = data.target"
      ],
      "metadata": {
        "id": "IoNtMBmsL9Lm"
      },
      "execution_count": null,
      "outputs": []
    },
    {
      "cell_type": "code",
      "source": [
        "# MinMaxScaler,\n",
        "scaler = MinMaxScaler()\n",
        "X_scaled = scaler.fit_transform(X)\n",
        "\n",
        "X_train, X_test, y_train, y_test = train_test_split(X_scaled, y, test_size=0.2, random_state=42)\n",
        "\n",
        "print(X_scaled[:,1])"
      ],
      "metadata": {
        "colab": {
          "base_uri": "https://localhost:8080/"
        },
        "id": "qH0druLjM1kG",
        "outputId": "318692e6-337d-4570-c130-48ac7fde3382"
      },
      "execution_count": null,
      "outputs": [
        {
          "output_type": "stream",
          "name": "stdout",
          "text": [
            "[0.0226581  0.27257355 0.3902604  0.36083869 0.15657761 0.20257017\n",
            " 0.34731146 0.37605681 0.40953669 0.48461278 0.45755834 0.27663172\n",
            " 0.51031451 0.48156916 0.43625296 0.60297599 0.35238417 0.37098411\n",
            " 0.42069665 0.15725397 0.20290835 0.0923233  0.15387217 0.45079472\n",
            " 0.39465675 0.22624281 0.39972946 0.35644234 0.526209   0.18058843\n",
            " 0.52079811 0.30402435 0.4825837  0.56679067 0.27629354 0.40175854\n",
            " 0.40615489 0.29455529 0.52384173 0.37571863 0.40142036 0.3936422\n",
            " 0.51065269 0.35745688 0.40919851 0.26682448 0.24112276 0.30267163\n",
            " 0.16638485 0.42576936 0.40209672 0.22421373 0.28846804 0.30402435\n",
            " 0.4163003  0.30571525 0.299628   0.40175854 0.32465336 0.07034156\n",
            " 0.17483936 0.38112952 0.42069665 0.14034494 0.47784917 0.48123098\n",
            " 0.38214406 0.31552249 0.25769361 0.22928644 0.39228948 0.16672303\n",
            " 0.50084545 0.2056138  0.23030098 0.3361515  0.04159621 0.2177883\n",
            " 0.48224552 0.28035171 0.38079134 0.20798106 0.51403449 0.56070342\n",
            " 0.20087927 0.2979371  0.39736219 0.50321272 0.40886033 0.18701387\n",
            " 0.48393642 0.44132567 0.1707812  0.29049713 0.34223876 0.45045654\n",
            " 0.27494082 0.34595874 0.10585052 0.34020967 0.51640176 0.12580318\n",
            " 0.36557322 0.32769699 0.323977   0.19783564 0.29151167 0.29861346\n",
            " 0.33682787 0.39059858 0.24619547 0.37368955 0.3361515  0.35441326\n",
            " 0.20696652 0.39972946 0.20459926 0.23537369 0.44639838 0.34832601\n",
            " 0.03753805 0.25059182 0.35475144 0.03990531 0.22590463 0.25363544\n",
            " 0.50659452 0.31112614 0.22590463 0.52113629 0.12106865 0.33040243\n",
            " 0.40006764 0.14271221 0.41258032 0.43151843 0.23537369 0.19208657\n",
            " 0.26580994 0.12445046 0.07642881 0.28204261 0.25701725 0.21001015\n",
            " 0.17788299 0.16706121 0.23233006 0.30639161 0.18498478 0.27730808\n",
            " 0.37436591 0.37166047 0.19039567 0.11396686 0.19039567 0.27832262\n",
            " 0.37301319 0.32972607 0.10246872 0.10990869 0.35407508 0.21068651\n",
            " 0.28542442 0.42306392 0.41697667 0.33987149 0.         0.30740615\n",
            " 0.50625634 0.24484275 0.0906324  0.33547514 0.07372337 0.16909029\n",
            " 0.18397024 0.1602976  0.28238079 0.35170781 0.42306392 0.1132905\n",
            " 0.4112276  0.57017247 0.35847142 0.17619209 0.42948935 0.18261752\n",
            " 0.29996618 0.25295908 0.25972269 0.20933378 0.45350017 0.39567129\n",
            " 0.28779168 0.57997971 0.45654379 0.22387555 0.42543118 0.41021305\n",
            " 0.43219479 0.3554278  0.33310788 0.32499155 0.57355428 0.47480555\n",
            " 0.30064254 0.23571187 0.25566452 0.35678052 0.43388569 0.10821779\n",
            " 0.42035847 0.31214068 0.2962462  0.53601623 0.47683463 0.24416638\n",
            " 0.29218803 0.26276632 0.400744   0.76969902 0.1166723  0.14169767\n",
            " 0.26445722 0.35644234 0.24721001 0.1271559  0.19445384 0.19614474\n",
            " 0.48224552 0.4267839  0.31687521 0.58741968 0.81501522 0.61210687\n",
            " 0.20967196 0.3902604  0.5836997  0.39736219 0.61345959 1.\n",
            " 0.19918837 0.18025025 0.28677714 0.47548191 0.46635103 0.3432533\n",
            " 0.26107541 0.14879946 0.52451809 0.17653027 0.46838011 0.29556983\n",
            " 0.34190057 0.24923909 0.32532973 0.24822455 0.6445722  0.25566452\n",
            " 0.45620561 0.8065607  0.58674332 0.45147109 0.42002029 0.32702063\n",
            " 0.41799121 0.72404464 0.31247886 0.41021305 0.21981738 0.36117687\n",
            " 0.2404464  0.11261414 0.3814677  0.20155563 0.49949273 0.25870815\n",
            " 0.15049036 0.34731146 0.27494082 0.18498478 0.57118701 0.14575583\n",
            " 0.28643896 0.30639161 0.20257017 0.29387893 0.37368955 0.11531958\n",
            " 0.3466351  0.31044978 0.33885695 0.31755157 0.21339195 0.26208996\n",
            " 0.1376395  0.12039229 0.08927968 0.28508624 0.28610078 0.45248563\n",
            " 0.31078796 0.34426784 0.47852553 0.30098072 0.2857626  0.49983091\n",
            " 0.20662834 0.1586067  0.10145418 0.13966858 0.31788975 0.20223199\n",
            " 0.1237741  0.03415624 0.30064254 0.24146094 0.14778492 0.30977342\n",
            " 0.31078796 0.24653365 0.21880284 0.33648969 0.12208319 0.39905309\n",
            " 0.18599932 0.25667907 0.10720325 0.27798444 0.37199865 0.41156578\n",
            " 0.19614474 0.32600609 0.3432533  0.17145756 0.31484613 0.38180588\n",
            " 0.15285763 0.39634765 0.26445722 0.49239094 0.23097734 0.24112276\n",
            " 0.17754481 0.40480216 0.19411566 0.16909029 0.31078796 0.17010484\n",
            " 0.21373013 0.17754481 0.24890091 0.32160974 0.26208996 0.54210348\n",
            " 0.14744674 0.31653703 0.30030436 0.21981738 0.19546838 0.29117349\n",
            " 0.28271897 0.40108218 0.30875888 0.29015894 0.24484275 0.40818397\n",
            " 0.57896517 0.28102807 0.25498816 0.41224214 0.45924924 0.11836321\n",
            " 0.18227934 0.25836997 0.21508285 0.21508285 0.3554278  0.62563409\n",
            " 0.18397024 0.3084207  0.10990869 0.17653027 0.43997295 0.26276632\n",
            " 0.13561042 0.45924924 0.1481231  0.21812648 0.19580656 0.45654379\n",
            " 0.08488333 0.24112276 0.34697328 0.425093   0.27088265 0.2526209\n",
            " 0.31044978 0.26208996 0.17314846 0.25532634 0.38248225 0.04058167\n",
            " 0.29015894 0.21846466 0.17720663 0.30030436 0.174163   0.39431857\n",
            " 0.37030774 0.27764626 0.26580994 0.24078458 0.40480216 0.41934393\n",
            " 0.67974298 0.38755495 0.40547853 0.38451133 0.08319242 0.39567129\n",
            " 0.31552249 0.14440311 0.21339195 0.31856611 0.31822793 0.39127494\n",
            " 0.17822117 0.41494758 0.23368279 0.26919175 0.43354751 0.26952993\n",
            " 0.33243152 0.4146094  0.24450457 0.33513696 0.33243152 0.21203923\n",
            " 0.3344606  0.20121745 0.25329726 0.5312817  0.2056138  0.29117349\n",
            " 0.24146094 0.51335813 0.61954684 0.26885357 0.32566791 0.36557322\n",
            " 0.40006764 0.51707812 0.62631045 0.14440311 0.25160636 0.71051742\n",
            " 0.66215759 0.52553263 0.52147447 0.62529591 0.58978695 0.56002705\n",
            " 0.58437606 0.29252621 0.28779168 0.35238417 0.37301319 0.28373351\n",
            " 0.46060196 0.28643896 0.29692256 0.62326682 0.17653027 0.68515387\n",
            " 0.19986473 0.20358471 0.3659114  0.23368279 0.16503213 0.33141698\n",
            " 0.28136625 0.3222861  0.14710856 0.26817721 0.05309435 0.22658099\n",
            " 0.24146094 0.30808252 0.21846466 0.35475144 0.43050389 0.11903957\n",
            " 0.36692594 0.10551234 0.36624958 0.35508962 0.28610078 0.25701725\n",
            " 0.26411904 0.38992222 0.23774095 0.49983091 0.22353737 0.34223876\n",
            " 0.10686507 0.11599594 0.34934055 0.25059182 0.20257017 0.48156916\n",
            " 0.16841393 0.16875211 0.36557322 0.13358133 0.31653703 0.30098072\n",
            " 0.3676023  0.35678052 0.28779168 0.23638823 0.14169767 0.40209672\n",
            " 0.34223876 0.30334799 0.20189381 0.11464322 0.30571525 0.08657423\n",
            " 0.11701048 0.12614136 0.26547176 0.34866419 0.22387555 0.37064592\n",
            " 0.26750085 0.37707136 0.43422388 0.49814001 0.53364897 0.53195807\n",
            " 0.15995942 0.51673994 0.5312817  0.62056138 0.37166047 0.45722016\n",
            " 0.22455191 0.23233006 0.32566791 0.49036185 0.39803855 0.43050389\n",
            " 0.66689212 0.41359486 0.64964491 0.60534325 0.33412242 0.61447413\n",
            " 0.43862022 0.4808928  0.58978695 0.66486304 0.70713561 0.52012175\n",
            " 0.42881299 0.62698681 0.62123774 0.66351031 0.50152181]\n"
          ]
        }
      ]
    },
    {
      "cell_type": "code",
      "source": [
        "model = LogisticRegression(random_state=42)\n"
      ],
      "metadata": {
        "id": "ufSTP8_bNjKO"
      },
      "execution_count": null,
      "outputs": []
    },
    {
      "cell_type": "code",
      "source": [
        "model.fit(X_train, y_train)"
      ],
      "metadata": {
        "colab": {
          "base_uri": "https://localhost:8080/",
          "height": 75
        },
        "id": "TvxoDFodN5VF",
        "outputId": "ddd17399-819d-464a-9468-603eb3787512"
      },
      "execution_count": null,
      "outputs": [
        {
          "output_type": "execute_result",
          "data": {
            "text/plain": [
              "LogisticRegression(random_state=42)"
            ],
            "text/html": [
              "<style>#sk-container-id-3 {color: black;background-color: white;}#sk-container-id-3 pre{padding: 0;}#sk-container-id-3 div.sk-toggleable {background-color: white;}#sk-container-id-3 label.sk-toggleable__label {cursor: pointer;display: block;width: 100%;margin-bottom: 0;padding: 0.3em;box-sizing: border-box;text-align: center;}#sk-container-id-3 label.sk-toggleable__label-arrow:before {content: \"▸\";float: left;margin-right: 0.25em;color: #696969;}#sk-container-id-3 label.sk-toggleable__label-arrow:hover:before {color: black;}#sk-container-id-3 div.sk-estimator:hover label.sk-toggleable__label-arrow:before {color: black;}#sk-container-id-3 div.sk-toggleable__content {max-height: 0;max-width: 0;overflow: hidden;text-align: left;background-color: #f0f8ff;}#sk-container-id-3 div.sk-toggleable__content pre {margin: 0.2em;color: black;border-radius: 0.25em;background-color: #f0f8ff;}#sk-container-id-3 input.sk-toggleable__control:checked~div.sk-toggleable__content {max-height: 200px;max-width: 100%;overflow: auto;}#sk-container-id-3 input.sk-toggleable__control:checked~label.sk-toggleable__label-arrow:before {content: \"▾\";}#sk-container-id-3 div.sk-estimator input.sk-toggleable__control:checked~label.sk-toggleable__label {background-color: #d4ebff;}#sk-container-id-3 div.sk-label input.sk-toggleable__control:checked~label.sk-toggleable__label {background-color: #d4ebff;}#sk-container-id-3 input.sk-hidden--visually {border: 0;clip: rect(1px 1px 1px 1px);clip: rect(1px, 1px, 1px, 1px);height: 1px;margin: -1px;overflow: hidden;padding: 0;position: absolute;width: 1px;}#sk-container-id-3 div.sk-estimator {font-family: monospace;background-color: #f0f8ff;border: 1px dotted black;border-radius: 0.25em;box-sizing: border-box;margin-bottom: 0.5em;}#sk-container-id-3 div.sk-estimator:hover {background-color: #d4ebff;}#sk-container-id-3 div.sk-parallel-item::after {content: \"\";width: 100%;border-bottom: 1px solid gray;flex-grow: 1;}#sk-container-id-3 div.sk-label:hover label.sk-toggleable__label {background-color: #d4ebff;}#sk-container-id-3 div.sk-serial::before {content: \"\";position: absolute;border-left: 1px solid gray;box-sizing: border-box;top: 0;bottom: 0;left: 50%;z-index: 0;}#sk-container-id-3 div.sk-serial {display: flex;flex-direction: column;align-items: center;background-color: white;padding-right: 0.2em;padding-left: 0.2em;position: relative;}#sk-container-id-3 div.sk-item {position: relative;z-index: 1;}#sk-container-id-3 div.sk-parallel {display: flex;align-items: stretch;justify-content: center;background-color: white;position: relative;}#sk-container-id-3 div.sk-item::before, #sk-container-id-3 div.sk-parallel-item::before {content: \"\";position: absolute;border-left: 1px solid gray;box-sizing: border-box;top: 0;bottom: 0;left: 50%;z-index: -1;}#sk-container-id-3 div.sk-parallel-item {display: flex;flex-direction: column;z-index: 1;position: relative;background-color: white;}#sk-container-id-3 div.sk-parallel-item:first-child::after {align-self: flex-end;width: 50%;}#sk-container-id-3 div.sk-parallel-item:last-child::after {align-self: flex-start;width: 50%;}#sk-container-id-3 div.sk-parallel-item:only-child::after {width: 0;}#sk-container-id-3 div.sk-dashed-wrapped {border: 1px dashed gray;margin: 0 0.4em 0.5em 0.4em;box-sizing: border-box;padding-bottom: 0.4em;background-color: white;}#sk-container-id-3 div.sk-label label {font-family: monospace;font-weight: bold;display: inline-block;line-height: 1.2em;}#sk-container-id-3 div.sk-label-container {text-align: center;}#sk-container-id-3 div.sk-container {/* jupyter's `normalize.less` sets `[hidden] { display: none; }` but bootstrap.min.css set `[hidden] { display: none !important; }` so we also need the `!important` here to be able to override the default hidden behavior on the sphinx rendered scikit-learn.org. See: https://github.com/scikit-learn/scikit-learn/issues/21755 */display: inline-block !important;position: relative;}#sk-container-id-3 div.sk-text-repr-fallback {display: none;}</style><div id=\"sk-container-id-3\" class=\"sk-top-container\"><div class=\"sk-text-repr-fallback\"><pre>LogisticRegression(random_state=42)</pre><b>In a Jupyter environment, please rerun this cell to show the HTML representation or trust the notebook. <br />On GitHub, the HTML representation is unable to render, please try loading this page with nbviewer.org.</b></div><div class=\"sk-container\" hidden><div class=\"sk-item\"><div class=\"sk-estimator sk-toggleable\"><input class=\"sk-toggleable__control sk-hidden--visually\" id=\"sk-estimator-id-3\" type=\"checkbox\" checked><label for=\"sk-estimator-id-3\" class=\"sk-toggleable__label sk-toggleable__label-arrow\">LogisticRegression</label><div class=\"sk-toggleable__content\"><pre>LogisticRegression(random_state=42)</pre></div></div></div></div></div>"
            ]
          },
          "metadata": {},
          "execution_count": 21
        }
      ]
    },
    {
      "cell_type": "code",
      "source": [
        "y_pred = model.predict(X_test)\n"
      ],
      "metadata": {
        "id": "GP4ehtdmN5T3"
      },
      "execution_count": null,
      "outputs": []
    },
    {
      "cell_type": "code",
      "source": [
        "\n",
        "accuracy = accuracy_score(y_test, y_pred)\n",
        "conf_matrix = confusion_matrix(y_test, y_pred)\n",
        "classification_rep = classification_report(y_test, y_pred)\n",
        "\n",
        "print(f\"Accuracy: {accuracy:.2f}\")\n",
        "print(\"Confusion Matrix:\")\n",
        "print(conf_matrix)\n",
        "print(\"Classification Report:\")\n",
        "print(classification_rep)\n",
        "\n",
        "# Visualize the results\n",
        "plt.figure(figsize=(8, 6))\n",
        "\n",
        "# Plot the confusion matrix\n",
        "plt.imshow(conf_matrix, interpolation='nearest', cmap=plt.cm.Blues)\n",
        "plt.title('Confusion Matrix')\n",
        "plt.colorbar()\n",
        "\n",
        "# Add labels to the plot\n",
        "classes = ['Benign', 'Malignant']\n",
        "tick_marks = np.arange(len(classes))\n",
        "plt.xticks(tick_marks, classes, rotation=45)\n",
        "plt.yticks(tick_marks, classes)\n",
        "\n",
        "plt.xlabel('Predicted Label')\n",
        "plt.ylabel('True Label')\n",
        "plt.show()"
      ],
      "metadata": {
        "colab": {
          "base_uri": "https://localhost:8080/",
          "height": 852
        },
        "id": "OB0aozVBMZlG",
        "outputId": "15fee200-d4cf-42a7-bb20-52eaaa6c8d89"
      },
      "execution_count": null,
      "outputs": [
        {
          "output_type": "stream",
          "name": "stdout",
          "text": [
            "Accuracy: 0.98\n",
            "Confusion Matrix:\n",
            "[[41  2]\n",
            " [ 0 71]]\n",
            "Classification Report:\n",
            "              precision    recall  f1-score   support\n",
            "\n",
            "           0       1.00      0.95      0.98        43\n",
            "           1       0.97      1.00      0.99        71\n",
            "\n",
            "    accuracy                           0.98       114\n",
            "   macro avg       0.99      0.98      0.98       114\n",
            "weighted avg       0.98      0.98      0.98       114\n",
            "\n"
          ]
        },
        {
          "output_type": "display_data",
          "data": {
            "text/plain": [
              "<Figure size 800x600 with 2 Axes>"
            ],
            "image/png": "[encoded data removed]"
          },
          "metadata": {}
        }
      ]
    },
    {
      "cell_type": "code",
      "source": [],
      "metadata": {
        "id": "lT0aRv6YOVal"
      },
      "execution_count": null,
      "outputs": []
    }
  ]
}